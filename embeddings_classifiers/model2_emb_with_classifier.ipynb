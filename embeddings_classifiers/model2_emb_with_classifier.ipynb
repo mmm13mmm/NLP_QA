{
  "cells": [
    {
      "cell_type": "code",
      "execution_count": 6,
      "metadata": {
        "colab": {
          "base_uri": "https://localhost:8080/"
        },
        "id": "22BJIvrlAslM",
        "outputId": "241303b6-511d-43b7-b6e4-825502404508"
      },
      "outputs": [
        {
          "output_type": "stream",
          "name": "stdout",
          "text": [
            "Requirement already satisfied: tqdm in /usr/local/lib/python3.10/dist-packages (4.66.5)\n"
          ]
        }
      ],
      "source": [
        "!pip install tqdm\n",
        "from google.colab import files\n",
        "import pandas as pd\n",
        "from tqdm import tqdm  # Import tqdm for the progress bar\n"
      ]
    },
    {
      "cell_type": "code",
      "execution_count": 23,
      "metadata": {
        "id": "p5JTsVzqBY2O"
      },
      "outputs": [],
      "source": [
        "LANGUAGE_DICT = {\"ru\": \"Russian\", \"ja\": \"Japanese\", \"fi\": \"Finnish\"}\n",
        "def get_train_df():\n",
        "  splits = {'train': 'train.parquet', 'validation': 'validation.parquet'}\n",
        "  df = pd.read_parquet(\"hf://datasets/coastalcph/tydi_xor_rc/\" + splits[\"train\"])\n",
        "  return df\n",
        "\n",
        "\n",
        "\n",
        "def get_validation_df():\n",
        "  splits = {'train': 'train.parquet', 'validation': 'validation.parquet'}\n",
        "  df = pd.read_parquet(\"hf://datasets/coastalcph/tydi_xor_rc/\" + splits[\"validation\"])\n",
        "  return df\n"
      ]
    },
    {
      "cell_type": "code",
      "execution_count": 28,
      "metadata": {
        "id": "mg8YlGSgCeQY"
      },
      "outputs": [],
      "source": [
        "from sklearn.metrics import accuracy_score, precision_score, recall_score, f1_score, confusion_matrix\n",
        "\n",
        "def evaluation_metrics(y_pred, y_val):\n",
        "    # Calculate accuracy\n",
        "    accuracy = accuracy_score(y_val, y_pred)\n",
        "    # Generate confusion matrix: [[TN, FP], [FN, TP]]\n",
        "    tn, fp, fn, tp = confusion_matrix(y_val, y_pred).ravel()\n",
        "\n",
        "    # Calculate true positive rate (TPR) and false positive rate (FPR)\n",
        "    tpr = tp / (tp + fn)  # TPR = TP / (TP + FN)\n",
        "    fpr = fp / (fp + tn)  # FPR = FP / (FP + TN)\n",
        "\n",
        "    # Print evaluation metrics\n",
        "    print(f\"Accuracy: {accuracy:.4f}\")\n",
        "    print(f\"True Positive Rate (TPR): {tpr:.4f}\")\n",
        "    print(f\"False Positive Rate (FPR): {fpr:.4f}\")\n",
        "\n",
        "    return {\n",
        "        'accuracy': accuracy,\n",
        "        'tpr': tpr,\n",
        "        'fpr': fpr\n",
        "    }\n",
        "\n",
        "def evaluate_model(model, X_val, y_val):\n",
        "    # Make predictions on the validation set\n",
        "    y_pred = model.predict(X_val)\n",
        "\n",
        "    # Evaluate performance\n",
        "    accuracy = accuracy_score(y_val, y_pred)\n",
        "    precision = precision_score(y_val, y_pred)\n",
        "    recall = recall_score(y_val, y_pred)\n",
        "    f1 = f1_score(y_val, y_pred)\n",
        "    conf_matrix = confusion_matrix(y_val, y_pred)\n",
        "\n",
        "    performance = evaluation_metrics(y_pred, y_val)\n",
        "    return performance\n"
      ]
    },
    {
      "cell_type": "code",
      "source": [
        "from sklearn.ensemble import RandomForestClassifier\n",
        "from sklearn.model_selection import train_test_split\n",
        "from sklearn.metrics import accuracy_score, precision_score, recall_score, f1_score, confusion_matrix\n",
        "\n",
        "def train_evaluate_random_forest(X, y):\n",
        "\n",
        "\n",
        "    # Split into train and test sets\n",
        "    X_train, X_test, y_train, y_test = train_test_split(X, y, test_size=0.2, random_state=42)\n",
        "\n",
        "    # Initialize and train the Random Forest classifier\n",
        "    rf_model = RandomForestClassifier(random_state=42, max_features=50)\n",
        "    rf_model.fit(X_train, y_train)\n",
        "\n",
        "    # Make predictions\n",
        "    y_pred = rf_model.predict(X_test)\n",
        "\n",
        "    performance = evaluation_metrics(y_pred, y_test)\n",
        "\n",
        "    return rf_model\n"
      ],
      "metadata": {
        "id": "IGoMPLfxRZfz"
      },
      "execution_count": 30,
      "outputs": []
    },
    {
      "cell_type": "code",
      "source": [
        "def main():\n",
        "  train_df = get_train_df()\n",
        "  validation_df = get_validation_df()\n",
        "  for lang in [\"ru\", \"ja\", \"fi\"]:\n",
        "    print(f\"************ {LANGUAGE_DICT[lang]} ************\")\n",
        "    print(\"----- Training -----\")\n",
        "    # Get Train Data and Train\n",
        "    X_train = pd.read_csv(f\"train_{lang}_dBERT.csv\")\n",
        "    y_train = train_df[train_df['lang'] == lang][\"answerable\"]\n",
        "    rf_model = train_evaluate_random_forest(X_train, y_train)\n",
        "\n",
        "    print(\"----- Validation -----\")\n",
        "    # Get Test data and evaluate\n",
        "    X_test = pd.read_csv(f\"test_{lang}_dBERT.csv\")\n",
        "    y_test = validation_df[validation_df['lang'] == lang][\"answerable\"]\n",
        "    evaluate_model(rf_model, X_test, y_test)\n",
        "\n",
        "main()"
      ],
      "metadata": {
        "colab": {
          "base_uri": "https://localhost:8080/"
        },
        "id": "0pIdPnJdUf4x",
        "outputId": "3a61bb43-12d8-4b73-8c90-467eb0972384"
      },
      "execution_count": 31,
      "outputs": [
        {
          "output_type": "stream",
          "name": "stdout",
          "text": [
            "************ Russian ************\n",
            "----- Training -----\n",
            "Accuracy: 0.8690\n",
            "True Positive Rate (TPR): 1.0000\n",
            "False Positive Rate (FPR): 0.9630\n",
            "----- Validation -----\n",
            "Accuracy: 0.7601\n",
            "True Positive Rate (TPR): 0.9718\n",
            "False Positive Rate (FPR): 0.7768\n",
            "************ Japanese ************\n",
            "----- Training -----\n",
            "Accuracy: 0.8525\n",
            "True Positive Rate (TPR): 0.9974\n",
            "False Positive Rate (FPR): 0.9306\n",
            "----- Validation -----\n",
            "Accuracy: 0.7083\n",
            "True Positive Rate (TPR): 0.9826\n",
            "False Positive Rate (FPR): 0.7574\n",
            "************ Finnish ************\n",
            "----- Training -----\n",
            "Accuracy: 0.8826\n",
            "True Positive Rate (TPR): 1.0000\n",
            "False Positive Rate (FPR): 0.9259\n",
            "----- Validation -----\n",
            "Accuracy: 0.7443\n",
            "True Positive Rate (TPR): 0.9868\n",
            "False Positive Rate (FPR): 0.8784\n"
          ]
        }
      ]
    },
    {
      "cell_type": "code",
      "source": [
        "df = pd.read_csv(\"train_ru_dBERT.csv\")\n",
        "df.info()"
      ],
      "metadata": {
        "colab": {
          "base_uri": "https://localhost:8080/"
        },
        "id": "L6DcTei6cTT9",
        "outputId": "7d7e8553-5fc2-4146-eae6-b0f8f9b33eed"
      },
      "execution_count": 32,
      "outputs": [
        {
          "output_type": "stream",
          "name": "stdout",
          "text": [
            "<class 'pandas.core.frame.DataFrame'>\n",
            "RangeIndex: 1983 entries, 0 to 1982\n",
            "Columns: 1536 entries, 0 to 1535\n",
            "dtypes: float64(1536)\n",
            "memory usage: 23.2 MB\n"
          ]
        }
      ]
    },
    {
      "cell_type": "code",
      "source": [
        "1536/2"
      ],
      "metadata": {
        "colab": {
          "base_uri": "https://localhost:8080/"
        },
        "id": "eVOzAIlYcYbn",
        "outputId": "1fb01583-acfb-4a53-b5d1-0e42031f1222"
      },
      "execution_count": 34,
      "outputs": [
        {
          "output_type": "execute_result",
          "data": {
            "text/plain": [
              "768.0"
            ]
          },
          "metadata": {},
          "execution_count": 34
        }
      ]
    },
    {
      "cell_type": "code",
      "source": [],
      "metadata": {
        "id": "VkpmKFK0cbF_"
      },
      "execution_count": null,
      "outputs": []
    }
  ],
  "metadata": {
    "colab": {
      "provenance": []
    },
    "kernelspec": {
      "display_name": "Python 3",
      "name": "python3"
    },
    "language_info": {
      "name": "python"
    }
  },
  "nbformat": 4,
  "nbformat_minor": 0
}